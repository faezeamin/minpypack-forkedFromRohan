{
 "cells": [
  {
   "cell_type": "code",
   "execution_count": 1,
   "metadata": {},
   "outputs": [],
   "source": [
    "import minpypack.A.A_file as aa"
   ]
  },
  {
   "cell_type": "code",
   "execution_count": 2,
   "metadata": {},
   "outputs": [],
   "source": [
    "import minpypack.B.B_file as bb"
   ]
  },
  {
   "cell_type": "code",
   "execution_count": 3,
   "metadata": {},
   "outputs": [
    {
     "name": "stdout",
     "output_type": "stream",
     "text": [
      "=====================================\n",
      "__name__: minpypack.B.B_file\n",
      "Executing B_file\n",
      "B_file path: /Users/faezeamin/Documents/Allen/clone_forked_dir/minpypack-forkedFromRohan/minpypack/B\n",
      "working directory absolute: /Users/faezeamin/Documents/Allen/clone_forked_dir/minpypack-forkedFromRohan/minpypack/B/B_file.py\n",
      "working directory cwd: /Users/faezeamin/Documents/Allen/clone_forked_dir/minpypack-forkedFromRohan/minpypack/notebooks\n",
      "=====================================\n"
     ]
    }
   ],
   "source": [
    "import minpypack.C as cc\n",
    "cc.BfromC()"
   ]
  },
  {
   "cell_type": "code",
   "execution_count": 4,
   "metadata": {},
   "outputs": [
    {
     "name": "stdout",
     "output_type": "stream",
     "text": [
      "This is a change in the C.py module\n"
     ]
    },
    {
     "data": {
      "text/plain": [
       "<module 'minpypack.C' from '/Users/faezeamin/Documents/Allen/clone_forked_dir/minpypack-forkedFromRohan/minpypack/C.py'>"
      ]
     },
     "execution_count": 4,
     "metadata": {},
     "output_type": "execute_result"
    }
   ],
   "source": [
    "cc"
   ]
  },
  {
   "cell_type": "code",
   "execution_count": null,
   "metadata": {},
   "outputs": [],
   "source": []
  }
 ],
 "metadata": {
  "kernelspec": {
   "display_name": "mini_project_forkrd_from_Rohan",
   "language": "python",
   "name": "python3"
  },
  "language_info": {
   "codemirror_mode": {
    "name": "ipython",
    "version": 3
   },
   "file_extension": ".py",
   "mimetype": "text/x-python",
   "name": "python",
   "nbconvert_exporter": "python",
   "pygments_lexer": "ipython3",
   "version": "3.9.16"
  },
  "orig_nbformat": 4
 },
 "nbformat": 4,
 "nbformat_minor": 2
}
